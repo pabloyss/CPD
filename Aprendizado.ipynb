{
  "nbformat": 4,
  "nbformat_minor": 0,
  "metadata": {
    "colab": {
      "provenance": [],
      "authorship_tag": "ABX9TyPFtB90HxhPVIOfUwEZZvG/",
      "include_colab_link": true
    },
    "kernelspec": {
      "name": "python3",
      "display_name": "Python 3"
    },
    "language_info": {
      "name": "python"
    }
  },
  "cells": [
    {
      "cell_type": "markdown",
      "metadata": {
        "id": "view-in-github",
        "colab_type": "text"
      },
      "source": [
        "<a href=\"https://colab.research.google.com/github/pabloyss/CPD/blob/main/Aprendizado.ipynb\" target=\"_parent\"><img src=\"https://colab.research.google.com/assets/colab-badge.svg\" alt=\"Open In Colab\"/></a>"
      ]
    },
    {
      "cell_type": "code",
      "source": [
        "from google.colab import files\n",
        "uploaded = files.upload()"
      ],
      "metadata": {
        "colab": {
          "base_uri": "https://localhost:8080/",
          "height": 109
        },
        "id": "SbPY3vcK9tyZ",
        "outputId": "63d89f61-59e3-484a-c233-af17130d5c87"
      },
      "execution_count": 4,
      "outputs": [
        {
          "output_type": "display_data",
          "data": {
            "text/plain": [
              "<IPython.core.display.HTML object>"
            ],
            "text/html": [
              "\n",
              "     <input type=\"file\" id=\"files-efe89906-a57c-4616-868c-95021f0e3a9a\" name=\"files[]\" multiple disabled\n",
              "        style=\"border:none\" />\n",
              "     <output id=\"result-efe89906-a57c-4616-868c-95021f0e3a9a\">\n",
              "      Upload widget is only available when the cell has been executed in the\n",
              "      current browser session. Please rerun this cell to enable.\n",
              "      </output>\n",
              "      <script>// Copyright 2017 Google LLC\n",
              "//\n",
              "// Licensed under the Apache License, Version 2.0 (the \"License\");\n",
              "// you may not use this file except in compliance with the License.\n",
              "// You may obtain a copy of the License at\n",
              "//\n",
              "//      http://www.apache.org/licenses/LICENSE-2.0\n",
              "//\n",
              "// Unless required by applicable law or agreed to in writing, software\n",
              "// distributed under the License is distributed on an \"AS IS\" BASIS,\n",
              "// WITHOUT WARRANTIES OR CONDITIONS OF ANY KIND, either express or implied.\n",
              "// See the License for the specific language governing permissions and\n",
              "// limitations under the License.\n",
              "\n",
              "/**\n",
              " * @fileoverview Helpers for google.colab Python module.\n",
              " */\n",
              "(function(scope) {\n",
              "function span(text, styleAttributes = {}) {\n",
              "  const element = document.createElement('span');\n",
              "  element.textContent = text;\n",
              "  for (const key of Object.keys(styleAttributes)) {\n",
              "    element.style[key] = styleAttributes[key];\n",
              "  }\n",
              "  return element;\n",
              "}\n",
              "\n",
              "// Max number of bytes which will be uploaded at a time.\n",
              "const MAX_PAYLOAD_SIZE = 100 * 1024;\n",
              "\n",
              "function _uploadFiles(inputId, outputId) {\n",
              "  const steps = uploadFilesStep(inputId, outputId);\n",
              "  const outputElement = document.getElementById(outputId);\n",
              "  // Cache steps on the outputElement to make it available for the next call\n",
              "  // to uploadFilesContinue from Python.\n",
              "  outputElement.steps = steps;\n",
              "\n",
              "  return _uploadFilesContinue(outputId);\n",
              "}\n",
              "\n",
              "// This is roughly an async generator (not supported in the browser yet),\n",
              "// where there are multiple asynchronous steps and the Python side is going\n",
              "// to poll for completion of each step.\n",
              "// This uses a Promise to block the python side on completion of each step,\n",
              "// then passes the result of the previous step as the input to the next step.\n",
              "function _uploadFilesContinue(outputId) {\n",
              "  const outputElement = document.getElementById(outputId);\n",
              "  const steps = outputElement.steps;\n",
              "\n",
              "  const next = steps.next(outputElement.lastPromiseValue);\n",
              "  return Promise.resolve(next.value.promise).then((value) => {\n",
              "    // Cache the last promise value to make it available to the next\n",
              "    // step of the generator.\n",
              "    outputElement.lastPromiseValue = value;\n",
              "    return next.value.response;\n",
              "  });\n",
              "}\n",
              "\n",
              "/**\n",
              " * Generator function which is called between each async step of the upload\n",
              " * process.\n",
              " * @param {string} inputId Element ID of the input file picker element.\n",
              " * @param {string} outputId Element ID of the output display.\n",
              " * @return {!Iterable<!Object>} Iterable of next steps.\n",
              " */\n",
              "function* uploadFilesStep(inputId, outputId) {\n",
              "  const inputElement = document.getElementById(inputId);\n",
              "  inputElement.disabled = false;\n",
              "\n",
              "  const outputElement = document.getElementById(outputId);\n",
              "  outputElement.innerHTML = '';\n",
              "\n",
              "  const pickedPromise = new Promise((resolve) => {\n",
              "    inputElement.addEventListener('change', (e) => {\n",
              "      resolve(e.target.files);\n",
              "    });\n",
              "  });\n",
              "\n",
              "  const cancel = document.createElement('button');\n",
              "  inputElement.parentElement.appendChild(cancel);\n",
              "  cancel.textContent = 'Cancel upload';\n",
              "  const cancelPromise = new Promise((resolve) => {\n",
              "    cancel.onclick = () => {\n",
              "      resolve(null);\n",
              "    };\n",
              "  });\n",
              "\n",
              "  // Wait for the user to pick the files.\n",
              "  const files = yield {\n",
              "    promise: Promise.race([pickedPromise, cancelPromise]),\n",
              "    response: {\n",
              "      action: 'starting',\n",
              "    }\n",
              "  };\n",
              "\n",
              "  cancel.remove();\n",
              "\n",
              "  // Disable the input element since further picks are not allowed.\n",
              "  inputElement.disabled = true;\n",
              "\n",
              "  if (!files) {\n",
              "    return {\n",
              "      response: {\n",
              "        action: 'complete',\n",
              "      }\n",
              "    };\n",
              "  }\n",
              "\n",
              "  for (const file of files) {\n",
              "    const li = document.createElement('li');\n",
              "    li.append(span(file.name, {fontWeight: 'bold'}));\n",
              "    li.append(span(\n",
              "        `(${file.type || 'n/a'}) - ${file.size} bytes, ` +\n",
              "        `last modified: ${\n",
              "            file.lastModifiedDate ? file.lastModifiedDate.toLocaleDateString() :\n",
              "                                    'n/a'} - `));\n",
              "    const percent = span('0% done');\n",
              "    li.appendChild(percent);\n",
              "\n",
              "    outputElement.appendChild(li);\n",
              "\n",
              "    const fileDataPromise = new Promise((resolve) => {\n",
              "      const reader = new FileReader();\n",
              "      reader.onload = (e) => {\n",
              "        resolve(e.target.result);\n",
              "      };\n",
              "      reader.readAsArrayBuffer(file);\n",
              "    });\n",
              "    // Wait for the data to be ready.\n",
              "    let fileData = yield {\n",
              "      promise: fileDataPromise,\n",
              "      response: {\n",
              "        action: 'continue',\n",
              "      }\n",
              "    };\n",
              "\n",
              "    // Use a chunked sending to avoid message size limits. See b/62115660.\n",
              "    let position = 0;\n",
              "    do {\n",
              "      const length = Math.min(fileData.byteLength - position, MAX_PAYLOAD_SIZE);\n",
              "      const chunk = new Uint8Array(fileData, position, length);\n",
              "      position += length;\n",
              "\n",
              "      const base64 = btoa(String.fromCharCode.apply(null, chunk));\n",
              "      yield {\n",
              "        response: {\n",
              "          action: 'append',\n",
              "          file: file.name,\n",
              "          data: base64,\n",
              "        },\n",
              "      };\n",
              "\n",
              "      let percentDone = fileData.byteLength === 0 ?\n",
              "          100 :\n",
              "          Math.round((position / fileData.byteLength) * 100);\n",
              "      percent.textContent = `${percentDone}% done`;\n",
              "\n",
              "    } while (position < fileData.byteLength);\n",
              "  }\n",
              "\n",
              "  // All done.\n",
              "  yield {\n",
              "    response: {\n",
              "      action: 'complete',\n",
              "    }\n",
              "  };\n",
              "}\n",
              "\n",
              "scope.google = scope.google || {};\n",
              "scope.google.colab = scope.google.colab || {};\n",
              "scope.google.colab._files = {\n",
              "  _uploadFiles,\n",
              "  _uploadFilesContinue,\n",
              "};\n",
              "})(self);\n",
              "</script> "
            ]
          },
          "metadata": {}
        },
        {
          "output_type": "stream",
          "name": "stdout",
          "text": [
            "Saving TestingData_2F_Original.txt to TestingData_2F_Original.txt\n",
            "Saving TrainingData_2F_Original.txt to TrainingData_2F_Original.txt\n"
          ]
        }
      ]
    },
    {
      "cell_type": "code",
      "source": [],
      "metadata": {
        "id": "Z_hpFNT9B781"
      },
      "execution_count": null,
      "outputs": []
    },
    {
      "cell_type": "code",
      "source": [
        "from sklearn.neighbors import KNeighborsClassifier\n",
        "import pandas as pd\n",
        "import numpy as np\n",
        "from google.colab import data_table\n",
        "from sklearn.metrics import accuracy_score\n",
        "\n",
        "\n",
        "NormData = pd.read_csv('TrainingData_2F_Norm.txt', sep=\"\\t\", header=0)\n",
        "OrigData = pd.read_csv('TrainingData_2F_Original.txt', sep=\"\\t\", header=0)\n",
        "TestOrig = pd.read_csv('TestingData_2F_Original.txt', sep=\"\\t\", header=0)\n",
        "TestNorm = pd.read_csv('TestingData_2F_Norm.txt', sep=\"\\t\", header=0)"
      ],
      "metadata": {
        "id": "LJXUBRjwB8Hl"
      },
      "execution_count": 9,
      "outputs": []
    },
    {
      "cell_type": "code",
      "source": [
        "# Norm Data\n",
        "NormData = NormData.drop('ID', axis=1)\n",
        "x = NormData[\"total.sulfur.dioxide\"]\n",
        "x = x.values\n",
        "x1 = NormData[\"citric.acid\"]\n",
        "x1 = x1.values\n",
        "y = NormData[\"Class\"]\n",
        "y = y.values\n",
        "\n",
        "X = list(zip(x,x1))\n",
        "\n",
        "neigh = KNeighborsClassifier(n_neighbors=7)\n",
        "neigh.fit(X, y)\n",
        "\n",
        "# Train Model\n",
        "\n",
        "x = TestNorm[\"total.sulfur.dioxide\"]\n",
        "x = x.values\n",
        "x1 = TestNorm[\"citric.acid\"]\n",
        "x1 = x1.values\n",
        "\n",
        "y = TestNorm[\"Class\"]\n",
        "y = y.values\n",
        "Xt = list(zip(x,x1))\n",
        "\n",
        "print(neigh.predict(Xt))\n",
        "\n",
        "print(accuracy_score(TestNorm[\"Class\"], neigh.predict(Xt)))\n",
        "\n"
      ],
      "metadata": {
        "colab": {
          "base_uri": "https://localhost:8080/"
        },
        "outputId": "b89fdc5a-5437-4bbd-af7b-2bfa74437d33",
        "id": "nqqSduWF9rRf"
      },
      "execution_count": 7,
      "outputs": [
        {
          "output_type": "stream",
          "name": "stdout",
          "text": [
            "[0 0 1 1]\n",
            "1.0\n"
          ]
        }
      ]
    },
    {
      "cell_type": "code",
      "source": [
        "# Orig Data\n",
        "x = OrigData[\"total.sulfur.dioxide\"]\n",
        "x = x.values\n",
        "x1 = OrigData[\"citric.acid\"]\n",
        "x1 = x1.values\n",
        "y = OrigData[\"class\"]\n",
        "y = y.values\n",
        "\n",
        "X = list(zip(x,x1))\n",
        "\n",
        "neigh = KNeighborsClassifier(n_neighbors=7)\n",
        "neigh.fit(X, y)\n",
        "\n",
        "# Train Model\n",
        "\n",
        "x = TestOrig[\"total.sulfur.dioxide\"]\n",
        "x = x.values\n",
        "x1 = TestOrig[\"citric.acid\"]\n",
        "x1 = x1.values\n",
        "\n",
        "y = TestOrig[\"class\"]\n",
        "y = y.values\n",
        "Xt = list(zip(x,x1))\n",
        "\n",
        "print(neigh.predict(Xt))\n",
        "\n",
        "print(accuracy_score(TestOrig[\"class\"], neigh.predict(Xt)))\n",
        "\n",
        "N1 = [26, 0]\n",
        "\n",
        "neighbors = neigh.kneighbors([N1], n_neighbors = 25, return_distance=True)\n",
        "\n",
        "print(neighbors)\n",
        "neighbors = neigh.kneighbors([N1], n_neighbors = 5, return_distance=False)\n",
        "\n",
        "neighbors_to_list = neighbors.flatten().tolist()\n",
        "neighbors_to_list.sort()\n",
        "\n",
        "print(neighbors_to_list)\n",
        "\n",
        "\n",
        "\n",
        "\n",
        "\n",
        "\n",
        "\n"
      ],
      "metadata": {
        "colab": {
          "base_uri": "https://localhost:8080/"
        },
        "id": "cVy6bgwHSKTl",
        "outputId": "64c3d766-98fe-4f90-890d-ca01fed565f4"
      },
      "execution_count": 17,
      "outputs": [
        {
          "output_type": "stream",
          "name": "stdout",
          "text": [
            "[1 1 1 0]\n",
            "0.25\n",
            "(array([[ 0.4       ,  1.00005   ,  1.11359777,  2.01434853,  4.00005   ,\n",
            "         4.04474968,  5.00048998,  5.00675544,  8.00039999,  8.00330557,\n",
            "         8.00901992,  8.01379436,  8.02246845,  9.00979467, 10.01011988,\n",
            "        11.00089087, 13.00471068, 13.00923134, 14.00080355, 14.00822615,\n",
            "        14.00857238, 15.00001333, 16.00007812, 17.00004706, 17.0070603 ]]), array([[20, 26, 29, 24, 10,  6, 39,  8, 15, 38,  5, 25,  7, 34, 40, 19,\n",
            "         4, 28, 18, 27, 43, 14, 32, 17, 13]]))\n",
            "[10, 20, 24, 26, 29]\n"
          ]
        }
      ]
    },
    {
      "cell_type": "markdown",
      "source": [
        "0.4       , 1.00005   , 1.11359777, 2.01434853, 4.00005\n",
        "\n",
        "0.75 0.5\n",
        "\n",
        "0.5 0.25\n",
        "\n",
        "0.25 0.75\n",
        "\n",
        "0.25 1.0"
      ],
      "metadata": {
        "id": "D2JQKvJdINBc"
      }
    }
  ]
}